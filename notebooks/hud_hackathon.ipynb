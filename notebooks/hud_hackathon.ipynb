{
 "cells": [
  {
   "cell_type": "markdown",
   "id": "a5d6b2ed",
   "metadata": {},
   "source": [
    "# Computer-Use Agents SOTA Challenge\n",
    "\n",
    "This notebook demonstrates how to create a computer use agent with Cua and evaluate it using HUD."
   ]
  },
  {
   "cell_type": "markdown",
   "id": "19f92431",
   "metadata": {},
   "source": [
    "## Step 1: Connect to cloud services\n",
    "\n",
    "You will need a Cua account to run computer use agents in the cloud and a HUD account to evaluate them.\n",
    "\n",
    "1. Create a Cua account at https://www.trycua.com/\n",
    "2. Start a Cua container at https://www.trycua.com/dashboard/containers\n",
    "3. Create a HUD account at https://www.hud.so/\n",
    "4. Create a .env file like this:\n",
    "\n",
    "```\n",
    "# Required environment variables:\n",
    "CUA_API_KEY=\n",
    "CUA_CONTAINER_NAME=\n",
    "HUD_API_KEY=\n",
    "\n",
    "# Any LLM provider will work:\n",
    "ANTHROPIC_API_KEY=\n",
    "OPENAI_API_KEY=\n",
    "```"
   ]
  },
  {
   "cell_type": "code",
   "execution_count": null,
   "id": "2f23828d",
   "metadata": {},
   "outputs": [],
   "source": [
    "# Read the .env file\n",
    "\n",
    "from dotenv import load_dotenv\n",
    "\n",
    "load_dotenv(dotenv_path='../.env')\n",
    "load_dotenv(dotenv_path='.env')"
   ]
  },
  {
   "cell_type": "markdown",
   "id": "5c8bef64",
   "metadata": {},
   "source": [
    "## Step 2: Create a Computer Use Agent\n",
    "\n",
    "Connect to your running Cua container using the Cua SDK and initialize an agent."
   ]
  },
  {
   "cell_type": "code",
   "execution_count": null,
   "id": "cd4393b0",
   "metadata": {},
   "outputs": [],
   "source": [
    "import logging\n",
    "from pathlib import Path\n",
    "import os\n",
    "\n",
    "from agent import ComputerAgent\n",
    "from computer import Computer, VMProviderType\n",
    "\n",
    "# Connect to your existing cloud container\n",
    "computer = Computer(\n",
    "    os_type=\"linux\",\n",
    "    provider_type=VMProviderType.CLOUD,\n",
    "    api_key=os.getenv(\"CUA_API_KEY\"),\n",
    "    name=os.getenv(\"CUA_CONTAINER_NAME\"),\n",
    "    verbosity=logging.INFO\n",
    ")\n",
    "\n",
    "# Create agent\n",
    "agent = ComputerAgent(\n",
    "    model=\"openai/computer-use-preview\",\n",
    "    tools=[computer],\n",
    "    trajectory_dir=str(Path(\"trajectories\")),\n",
    "    only_n_most_recent_images=3,\n",
    "    verbosity=logging.INFO\n",
    ")"
   ]
  },
  {
   "cell_type": "markdown",
   "id": "12b9c22c",
   "metadata": {},
   "source": [
    "## Step 3: Run a Simple Task\n",
    "\n",
    "Try running the computer use agent on a simple task.\n",
    "\n",
    "Trajectories are saved in the format: `trajectories/YYYY-MM-DD_computer-use-pre_XXX`.\n",
    "\n",
    "To view a replay of the agent's actions, upload the trajectory to the [trajectory viewer](https://www.trycua.com/trajectory-viewer).\n",
    "\n",
    "You can also connect to an agent through VNC on the [Cua Dashboard](https://www.trycua.com/dashboard)."
   ]
  },
  {
   "cell_type": "code",
   "execution_count": null,
   "id": "f3a32ea8",
   "metadata": {},
   "outputs": [],
   "source": [
    "tasks = [\n",
    "    \"Look for a repository named trycua/cua on GitHub.\"\n",
    "]\n",
    "\n",
    "for i, task in enumerate(tasks):\n",
    "    print(f\"\\nExecuting task {i}/{len(tasks)}: {task}\")\n",
    "    async for result in agent.run(task):\n",
    "        print(result)\n",
    "        pass\n",
    "\n",
    "    print(f\"\\n✅ Task {i+1}/{len(tasks)} completed: {task}\")"
   ]
  },
  {
   "cell_type": "markdown",
   "id": "eb4edbb5",
   "metadata": {},
   "source": [
    "## Step 4: Evaluate the Agent with HUD\n",
    "\n",
    "Test your agent's performance on a selection of tasks from the OSWorld benchmark:"
   ]
  },
  {
   "cell_type": "code",
   "execution_count": null,
   "id": "6bf0887e",
   "metadata": {},
   "outputs": [],
   "source": [
    "import uuid\n",
    "from pprint import pprint\n",
    "from agent.integrations.hud import run_full_dataset\n",
    "\n",
    "# Full dataset evaluation (runs via HUD's run_dataset under the hood)\n",
    "job_name = f\"osworld-test-{str(uuid.uuid4())[:4]}\"\n",
    "\n",
    "results = await run_full_dataset(\n",
    "    dataset=\"ddupont/OSWorld-Tiny-Public\",          # You can also pass a Dataset or a list[dict]\n",
    "    job_name=job_name,                   # Optional; defaults to a timestamp for custom datasets\n",
    "    model=\"openai/computer-use-preview\", # Or any supported model string\n",
    "    max_concurrent=20,                   # Tune to your infra\n",
    "    max_steps=50,                        # Safety cap per task\n",
    "    split=\"train[:3]\"                    # Limit to just 3 tasks\n",
    "    # instructions=\"...\"        # Set a custom system prompt\n",
    "    # callbacks=[],             # Set custom callbacks\n",
    "    # tools=[your_python_func], # Add custom tools\n",
    ")\n",
    "\n",
    "# results is a list from hud.datasets.run_dataset; inspect/aggregate as needed\n",
    "print(f\"Job: {job_name}\")\n",
    "print(f\"Total results: {len(results)}\")\n",
    "pprint(results[:3])"
   ]
  },
  {
   "cell_type": "markdown",
   "id": "920a09ed",
   "metadata": {},
   "source": [
    "If HUD is not available, you can also test your agent offline on the OSWorld-G evaluation set"
   ]
  },
  {
   "cell_type": "code",
   "execution_count": null,
   "id": "207d1b96",
   "metadata": {},
   "outputs": [],
   "source": [
    "from agent.benchmark import run_offline_dataset\n",
    "import json\n",
    "import logging\n",
    "\n",
    "# Choose a model and any ComputerAgent kwargs you want\n",
    "# Examples:\n",
    "#   model=\"openai/computer-use-preview\"\n",
    "#   model=\"anthropic/claude-3-5-sonnet-20241022\"\n",
    "# You can also pass other ComputerAgent kwargs like only_n_most_recent_images, callbacks, etc.\n",
    "results = await run_offline_dataset(\n",
    "    dataset=\"MMInstruction/OSWorld-G\",\n",
    "    split=\"test[:50]\",\n",
    "    model=\"openai/computer-use-preview\",\n",
    "    only_n_most_recent_images=3,\n",
    "    verbosity=logging.INFO,     # Print agent outputs \n",
    "    # instructions=\"...\"        # Set a custom system prompt\n",
    "    # callbacks=[],             # Set custom callbacks\n",
    "    # tools=[your_python_func], # Add custom tools\n",
    ")\n",
    "\n",
    "print(\"Summary:\", json.dumps(results[\"summary\"], indent=2))\n",
    "print(\"First 3 results:\", json.dumps(results[\"results\"][:3], indent=2))"
   ]
  },
  {
   "cell_type": "markdown",
   "id": "5b89a103",
   "metadata": {},
   "source": [
    "# Step 5: Improve your Agent\n",
    "\n",
    "Improve your agent to get the highest score possible on OSWorld-Verified. Here are some ideas to get you started:\n",
    "\n",
    "- Experiment with different models or combinations of models\n",
    "- Try adding your custom tools to the agent\n",
    "- Read the ComputerAgent source code, and come up with your own improved version/subclass"
   ]
  }
 ],
 "metadata": {
  "kernelspec": {
   "display_name": ".venv",
   "language": "python",
   "name": "python3"
  },
  "language_info": {
   "codemirror_mode": {
    "name": "ipython",
    "version": 3
   },
   "file_extension": ".py",
   "mimetype": "text/x-python",
   "name": "python",
   "nbconvert_exporter": "python",
   "pygments_lexer": "ipython3",
   "version": "3.12.11"
  }
 },
 "nbformat": 4,
 "nbformat_minor": 5
}
